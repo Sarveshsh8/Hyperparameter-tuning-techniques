{
 "cells": [
  {
   "cell_type": "code",
   "execution_count": 2,
   "metadata": {},
   "outputs": [],
   "source": [
    "import warnings\n",
    "warnings.filterwarnings('ignore')"
   ]
  },
  {
   "cell_type": "code",
   "execution_count": 3,
   "metadata": {},
   "outputs": [
    {
     "data": {
      "text/html": [
       "<div>\n",
       "<style scoped>\n",
       "    .dataframe tbody tr th:only-of-type {\n",
       "        vertical-align: middle;\n",
       "    }\n",
       "\n",
       "    .dataframe tbody tr th {\n",
       "        vertical-align: top;\n",
       "    }\n",
       "\n",
       "    .dataframe thead th {\n",
       "        text-align: right;\n",
       "    }\n",
       "</style>\n",
       "<table border=\"1\" class=\"dataframe\">\n",
       "  <thead>\n",
       "    <tr style=\"text-align: right;\">\n",
       "      <th></th>\n",
       "      <th>Pregnancies</th>\n",
       "      <th>Glucose</th>\n",
       "      <th>BloodPressure</th>\n",
       "      <th>SkinThickness</th>\n",
       "      <th>Insulin</th>\n",
       "      <th>BMI</th>\n",
       "      <th>DiabetesPedigreeFunction</th>\n",
       "      <th>Age</th>\n",
       "      <th>Outcome</th>\n",
       "    </tr>\n",
       "  </thead>\n",
       "  <tbody>\n",
       "    <tr>\n",
       "      <th>0</th>\n",
       "      <td>6</td>\n",
       "      <td>148</td>\n",
       "      <td>72</td>\n",
       "      <td>35</td>\n",
       "      <td>0</td>\n",
       "      <td>33.6</td>\n",
       "      <td>0.627</td>\n",
       "      <td>50</td>\n",
       "      <td>1</td>\n",
       "    </tr>\n",
       "    <tr>\n",
       "      <th>1</th>\n",
       "      <td>1</td>\n",
       "      <td>85</td>\n",
       "      <td>66</td>\n",
       "      <td>29</td>\n",
       "      <td>0</td>\n",
       "      <td>26.6</td>\n",
       "      <td>0.351</td>\n",
       "      <td>31</td>\n",
       "      <td>0</td>\n",
       "    </tr>\n",
       "    <tr>\n",
       "      <th>2</th>\n",
       "      <td>8</td>\n",
       "      <td>183</td>\n",
       "      <td>64</td>\n",
       "      <td>0</td>\n",
       "      <td>0</td>\n",
       "      <td>23.3</td>\n",
       "      <td>0.672</td>\n",
       "      <td>32</td>\n",
       "      <td>1</td>\n",
       "    </tr>\n",
       "    <tr>\n",
       "      <th>3</th>\n",
       "      <td>1</td>\n",
       "      <td>89</td>\n",
       "      <td>66</td>\n",
       "      <td>23</td>\n",
       "      <td>94</td>\n",
       "      <td>28.1</td>\n",
       "      <td>0.167</td>\n",
       "      <td>21</td>\n",
       "      <td>0</td>\n",
       "    </tr>\n",
       "    <tr>\n",
       "      <th>4</th>\n",
       "      <td>0</td>\n",
       "      <td>137</td>\n",
       "      <td>40</td>\n",
       "      <td>35</td>\n",
       "      <td>168</td>\n",
       "      <td>43.1</td>\n",
       "      <td>2.288</td>\n",
       "      <td>33</td>\n",
       "      <td>1</td>\n",
       "    </tr>\n",
       "  </tbody>\n",
       "</table>\n",
       "</div>"
      ],
      "text/plain": [
       "   Pregnancies  Glucose  BloodPressure  SkinThickness  Insulin   BMI  \\\n",
       "0            6      148             72             35        0  33.6   \n",
       "1            1       85             66             29        0  26.6   \n",
       "2            8      183             64              0        0  23.3   \n",
       "3            1       89             66             23       94  28.1   \n",
       "4            0      137             40             35      168  43.1   \n",
       "\n",
       "   DiabetesPedigreeFunction  Age  Outcome  \n",
       "0                     0.627   50        1  \n",
       "1                     0.351   31        0  \n",
       "2                     0.672   32        1  \n",
       "3                     0.167   21        0  \n",
       "4                     2.288   33        1  "
      ]
     },
     "execution_count": 3,
     "metadata": {},
     "output_type": "execute_result"
    }
   ],
   "source": [
    "import pandas as pd\n",
    "df = pd.read_csv('C:\\diabetes.csv')\n",
    "df.head()"
   ]
  },
  {
   "cell_type": "code",
   "execution_count": 4,
   "metadata": {},
   "outputs": [
    {
     "data": {
      "text/html": [
       "<div>\n",
       "<style scoped>\n",
       "    .dataframe tbody tr th:only-of-type {\n",
       "        vertical-align: middle;\n",
       "    }\n",
       "\n",
       "    .dataframe tbody tr th {\n",
       "        vertical-align: top;\n",
       "    }\n",
       "\n",
       "    .dataframe thead th {\n",
       "        text-align: right;\n",
       "    }\n",
       "</style>\n",
       "<table border=\"1\" class=\"dataframe\">\n",
       "  <thead>\n",
       "    <tr style=\"text-align: right;\">\n",
       "      <th></th>\n",
       "      <th>Pregnancies</th>\n",
       "      <th>Glucose</th>\n",
       "      <th>BloodPressure</th>\n",
       "      <th>SkinThickness</th>\n",
       "      <th>Insulin</th>\n",
       "      <th>BMI</th>\n",
       "      <th>DiabetesPedigreeFunction</th>\n",
       "      <th>Age</th>\n",
       "      <th>Outcome</th>\n",
       "    </tr>\n",
       "  </thead>\n",
       "  <tbody>\n",
       "    <tr>\n",
       "      <th>0</th>\n",
       "      <td>6</td>\n",
       "      <td>148.0</td>\n",
       "      <td>72</td>\n",
       "      <td>35.0</td>\n",
       "      <td>30.5</td>\n",
       "      <td>33.6</td>\n",
       "      <td>0.627</td>\n",
       "      <td>50</td>\n",
       "      <td>1</td>\n",
       "    </tr>\n",
       "    <tr>\n",
       "      <th>1</th>\n",
       "      <td>1</td>\n",
       "      <td>85.0</td>\n",
       "      <td>66</td>\n",
       "      <td>29.0</td>\n",
       "      <td>30.5</td>\n",
       "      <td>26.6</td>\n",
       "      <td>0.351</td>\n",
       "      <td>31</td>\n",
       "      <td>0</td>\n",
       "    </tr>\n",
       "    <tr>\n",
       "      <th>2</th>\n",
       "      <td>8</td>\n",
       "      <td>183.0</td>\n",
       "      <td>64</td>\n",
       "      <td>23.0</td>\n",
       "      <td>30.5</td>\n",
       "      <td>23.3</td>\n",
       "      <td>0.672</td>\n",
       "      <td>32</td>\n",
       "      <td>1</td>\n",
       "    </tr>\n",
       "    <tr>\n",
       "      <th>3</th>\n",
       "      <td>1</td>\n",
       "      <td>89.0</td>\n",
       "      <td>66</td>\n",
       "      <td>23.0</td>\n",
       "      <td>94.0</td>\n",
       "      <td>28.1</td>\n",
       "      <td>0.167</td>\n",
       "      <td>21</td>\n",
       "      <td>0</td>\n",
       "    </tr>\n",
       "    <tr>\n",
       "      <th>4</th>\n",
       "      <td>0</td>\n",
       "      <td>137.0</td>\n",
       "      <td>40</td>\n",
       "      <td>35.0</td>\n",
       "      <td>168.0</td>\n",
       "      <td>43.1</td>\n",
       "      <td>2.288</td>\n",
       "      <td>33</td>\n",
       "      <td>1</td>\n",
       "    </tr>\n",
       "  </tbody>\n",
       "</table>\n",
       "</div>"
      ],
      "text/plain": [
       "   Pregnancies  Glucose  BloodPressure  SkinThickness  Insulin   BMI  \\\n",
       "0            6    148.0             72           35.0     30.5  33.6   \n",
       "1            1     85.0             66           29.0     30.5  26.6   \n",
       "2            8    183.0             64           23.0     30.5  23.3   \n",
       "3            1     89.0             66           23.0     94.0  28.1   \n",
       "4            0    137.0             40           35.0    168.0  43.1   \n",
       "\n",
       "   DiabetesPedigreeFunction  Age  Outcome  \n",
       "0                     0.627   50        1  \n",
       "1                     0.351   31        0  \n",
       "2                     0.672   32        1  \n",
       "3                     0.167   21        0  \n",
       "4                     2.288   33        1  "
      ]
     },
     "execution_count": 4,
     "metadata": {},
     "output_type": "execute_result"
    }
   ],
   "source": [
    "import numpy as np\n",
    "df['Glucose'] = np.where(df['Glucose']==0,df['Glucose'].median(),df['Glucose'])\n",
    "df['Insulin'] = np.where(df['Insulin']==0,df['Insulin'].median(),df['Insulin'])\n",
    "df['SkinThickness'] = np.where(df['SkinThickness']==0,df['SkinThickness'].median(),df['SkinThickness'])\n",
    "\n",
    "df.head()"
   ]
  },
  {
   "cell_type": "code",
   "execution_count": 5,
   "metadata": {},
   "outputs": [],
   "source": [
    "X = df.drop('Outcome', axis=1)\n",
    "y = df['Outcome']"
   ]
  },
  {
   "cell_type": "code",
   "execution_count": 6,
   "metadata": {},
   "outputs": [
    {
     "data": {
      "text/html": [
       "<div>\n",
       "<style scoped>\n",
       "    .dataframe tbody tr th:only-of-type {\n",
       "        vertical-align: middle;\n",
       "    }\n",
       "\n",
       "    .dataframe tbody tr th {\n",
       "        vertical-align: top;\n",
       "    }\n",
       "\n",
       "    .dataframe thead th {\n",
       "        text-align: right;\n",
       "    }\n",
       "</style>\n",
       "<table border=\"1\" class=\"dataframe\">\n",
       "  <thead>\n",
       "    <tr style=\"text-align: right;\">\n",
       "      <th></th>\n",
       "      <th>Pregnancies</th>\n",
       "      <th>Glucose</th>\n",
       "      <th>BloodPressure</th>\n",
       "      <th>SkinThickness</th>\n",
       "      <th>Insulin</th>\n",
       "      <th>BMI</th>\n",
       "      <th>DiabetesPedigreeFunction</th>\n",
       "      <th>Age</th>\n",
       "    </tr>\n",
       "  </thead>\n",
       "  <tbody>\n",
       "    <tr>\n",
       "      <th>0</th>\n",
       "      <td>6</td>\n",
       "      <td>148.0</td>\n",
       "      <td>72</td>\n",
       "      <td>35.0</td>\n",
       "      <td>30.5</td>\n",
       "      <td>33.6</td>\n",
       "      <td>0.627</td>\n",
       "      <td>50</td>\n",
       "    </tr>\n",
       "    <tr>\n",
       "      <th>1</th>\n",
       "      <td>1</td>\n",
       "      <td>85.0</td>\n",
       "      <td>66</td>\n",
       "      <td>29.0</td>\n",
       "      <td>30.5</td>\n",
       "      <td>26.6</td>\n",
       "      <td>0.351</td>\n",
       "      <td>31</td>\n",
       "    </tr>\n",
       "    <tr>\n",
       "      <th>2</th>\n",
       "      <td>8</td>\n",
       "      <td>183.0</td>\n",
       "      <td>64</td>\n",
       "      <td>23.0</td>\n",
       "      <td>30.5</td>\n",
       "      <td>23.3</td>\n",
       "      <td>0.672</td>\n",
       "      <td>32</td>\n",
       "    </tr>\n",
       "    <tr>\n",
       "      <th>3</th>\n",
       "      <td>1</td>\n",
       "      <td>89.0</td>\n",
       "      <td>66</td>\n",
       "      <td>23.0</td>\n",
       "      <td>94.0</td>\n",
       "      <td>28.1</td>\n",
       "      <td>0.167</td>\n",
       "      <td>21</td>\n",
       "    </tr>\n",
       "    <tr>\n",
       "      <th>4</th>\n",
       "      <td>0</td>\n",
       "      <td>137.0</td>\n",
       "      <td>40</td>\n",
       "      <td>35.0</td>\n",
       "      <td>168.0</td>\n",
       "      <td>43.1</td>\n",
       "      <td>2.288</td>\n",
       "      <td>33</td>\n",
       "    </tr>\n",
       "  </tbody>\n",
       "</table>\n",
       "</div>"
      ],
      "text/plain": [
       "   Pregnancies  Glucose  BloodPressure  SkinThickness  Insulin   BMI  \\\n",
       "0            6    148.0             72           35.0     30.5  33.6   \n",
       "1            1     85.0             66           29.0     30.5  26.6   \n",
       "2            8    183.0             64           23.0     30.5  23.3   \n",
       "3            1     89.0             66           23.0     94.0  28.1   \n",
       "4            0    137.0             40           35.0    168.0  43.1   \n",
       "\n",
       "   DiabetesPedigreeFunction  Age  \n",
       "0                     0.627   50  \n",
       "1                     0.351   31  \n",
       "2                     0.672   32  \n",
       "3                     0.167   21  \n",
       "4                     2.288   33  "
      ]
     },
     "execution_count": 6,
     "metadata": {},
     "output_type": "execute_result"
    }
   ],
   "source": [
    "X.head()"
   ]
  },
  {
   "cell_type": "code",
   "execution_count": 7,
   "metadata": {},
   "outputs": [
    {
     "data": {
      "text/plain": [
       "0    1\n",
       "1    0\n",
       "2    1\n",
       "3    0\n",
       "4    1\n",
       "Name: Outcome, dtype: int64"
      ]
     },
     "execution_count": 7,
     "metadata": {},
     "output_type": "execute_result"
    }
   ],
   "source": [
    "y.head()"
   ]
  },
  {
   "cell_type": "code",
   "execution_count": 8,
   "metadata": {},
   "outputs": [],
   "source": [
    "from sklearn.model_selection import train_test_split\n",
    "X_train,X_test,y_train,y_test = train_test_split(X,y,test_size=0.20,random_state=0)"
   ]
  },
  {
   "cell_type": "code",
   "execution_count": 9,
   "metadata": {},
   "outputs": [],
   "source": [
    "from sklearn.ensemble import RandomForestClassifier\n",
    "classifier = RandomForestClassifier(n_estimators=10).fit(X_train,y_train)\n",
    "prediction = classifier.predict(X_test)"
   ]
  },
  {
   "cell_type": "code",
   "execution_count": 10,
   "metadata": {},
   "outputs": [
    {
     "name": "stdout",
     "output_type": "stream",
     "text": [
      "[[94 13]\n",
      " [20 27]]\n",
      "0.7857142857142857\n",
      "              precision    recall  f1-score   support\n",
      "\n",
      "           0       0.82      0.88      0.85       107\n",
      "           1       0.68      0.57      0.62        47\n",
      "\n",
      "    accuracy                           0.79       154\n",
      "   macro avg       0.75      0.73      0.74       154\n",
      "weighted avg       0.78      0.79      0.78       154\n",
      "\n"
     ]
    }
   ],
   "source": [
    "from sklearn.metrics import confusion_matrix,classification_report,accuracy_score\n",
    "print(confusion_matrix(y_test,prediction))\n",
    "print(accuracy_score(y_test,prediction))\n",
    "print(classification_report(y_test,prediction))"
   ]
  },
  {
   "cell_type": "markdown",
   "metadata": {},
   "source": [
    "# Optuna optimization"
   ]
  },
  {
   "cell_type": "markdown",
   "metadata": {},
   "source": [
    "1. Handle a wide variety of tasks with a simple installation that has few requirements.\n",
    "2. Define search spaces using familiar Python syntax including conditionals and loops.\n",
    "3. Adopt state-of-the-art algorithms for sampling hyper parameters and efficiently pruning unpromising trials.\n",
    "4. Scale studies to tens or hundreds or workers with little or no changes to the code.\n",
    "5. Inspect optimization histories from a variety of plotting functions.\n"
   ]
  },
  {
   "cell_type": "code",
   "execution_count": 12,
   "metadata": {},
   "outputs": [],
   "source": [
    "import optuna\n",
    "import sklearn.svm\n",
    "def objective(trial):\n",
    "\n",
    "    classifier = trial.suggest_categorical('classifier', ['RandomForest', 'SVC'])\n",
    "    \n",
    "    if classifier == 'RandomForest':\n",
    "        n_estimators = trial.suggest_int('n_estimators', 300, 3000,10)\n",
    "        max_depth = int(trial.suggest_float('max_depth', 10, 100, log=True))\n",
    "\n",
    "        clf = sklearn.ensemble.RandomForestClassifier(\n",
    "            n_estimators=n_estimators, max_depth=max_depth)\n",
    "    else:\n",
    "        c = trial.suggest_float('svc_c', 1e-10, 1e10, log=True)\n",
    "        \n",
    "        clf = sklearn.svm.SVC(C=c, gamma='auto')\n",
    "\n",
    "    return sklearn.model_selection.cross_val_score(\n",
    "        clf,X_train,y_train, n_jobs=-1, cv=3).mean()"
   ]
  },
  {
   "cell_type": "code",
   "execution_count": 13,
   "metadata": {},
   "outputs": [
    {
     "name": "stderr",
     "output_type": "stream",
     "text": [
      "\u001b[32m[I 2020-10-11 10:55:09,367]\u001b[0m A new study created in memory with name: no-name-4a3e4a7d-8b05-4839-a96c-1729af3c8a87\u001b[0m\n",
      "\u001b[32m[I 2020-10-11 10:55:30,183]\u001b[0m Trial 0 finished with value: 0.7540650406504065 and parameters: {'classifier': 'RandomForest', 'n_estimators': 2680, 'max_depth': 84.94990868401386}. Best is trial 0 with value: 0.7540650406504065.\u001b[0m\n",
      "\u001b[32m[I 2020-10-11 10:55:35,845]\u001b[0m Trial 1 finished with value: 0.640068547744301 and parameters: {'classifier': 'SVC', 'svc_c': 0.0019138619595667132}. Best is trial 0 with value: 0.7540650406504065.\u001b[0m\n",
      "\u001b[32m[I 2020-10-11 10:55:40,803]\u001b[0m Trial 2 finished with value: 0.640068547744301 and parameters: {'classifier': 'SVC', 'svc_c': 3.082011414595752e-07}. Best is trial 0 with value: 0.7540650406504065.\u001b[0m\n",
      "\u001b[32m[I 2020-10-11 10:55:49,309]\u001b[0m Trial 3 finished with value: 0.7491790212019768 and parameters: {'classifier': 'RandomForest', 'n_estimators': 2130, 'max_depth': 11.014985357402937}. Best is trial 0 with value: 0.7540650406504065.\u001b[0m\n",
      "\u001b[32m[I 2020-10-11 10:55:56,560]\u001b[0m Trial 4 finished with value: 0.7491869918699187 and parameters: {'classifier': 'RandomForest', 'n_estimators': 1830, 'max_depth': 84.27538980195287}. Best is trial 0 with value: 0.7540650406504065.\u001b[0m\n",
      "\u001b[32m[I 2020-10-11 10:55:56,624]\u001b[0m Trial 5 finished with value: 0.640068547744301 and parameters: {'classifier': 'SVC', 'svc_c': 235.43510224682302}. Best is trial 0 with value: 0.7540650406504065.\u001b[0m\n",
      "\u001b[32m[I 2020-10-11 10:55:56,684]\u001b[0m Trial 6 finished with value: 0.640068547744301 and parameters: {'classifier': 'SVC', 'svc_c': 4.659337762560396e-09}. Best is trial 0 with value: 0.7540650406504065.\u001b[0m\n",
      "\u001b[32m[I 2020-10-11 10:55:56,750]\u001b[0m Trial 7 finished with value: 0.640068547744301 and parameters: {'classifier': 'SVC', 'svc_c': 0.26440587542518007}. Best is trial 0 with value: 0.7540650406504065.\u001b[0m\n",
      "\u001b[32m[I 2020-10-11 10:55:56,800]\u001b[0m Trial 8 finished with value: 0.640068547744301 and parameters: {'classifier': 'SVC', 'svc_c': 6.74438881700837e-09}. Best is trial 0 with value: 0.7540650406504065.\u001b[0m\n",
      "\u001b[32m[I 2020-10-11 10:56:05,505]\u001b[0m Trial 9 finished with value: 0.755699027578511 and parameters: {'classifier': 'RandomForest', 'n_estimators': 2330, 'max_depth': 12.864237181394243}. Best is trial 9 with value: 0.755699027578511.\u001b[0m\n",
      "\u001b[32m[I 2020-10-11 10:56:07,722]\u001b[0m Trial 10 finished with value: 0.7491710505340348 and parameters: {'classifier': 'RandomForest', 'n_estimators': 440, 'max_depth': 10.407774065341828}. Best is trial 9 with value: 0.755699027578511.\u001b[0m\n",
      "\u001b[32m[I 2020-10-11 10:56:18,200]\u001b[0m Trial 11 finished with value: 0.7508050374621393 and parameters: {'classifier': 'RandomForest', 'n_estimators': 2800, 'max_depth': 42.28964427905217}. Best is trial 9 with value: 0.755699027578511.\u001b[0m\n",
      "\u001b[32m[I 2020-10-11 10:56:29,292]\u001b[0m Trial 12 finished with value: 0.7508050374621393 and parameters: {'classifier': 'RandomForest', 'n_estimators': 2940, 'max_depth': 24.306161453917838}. Best is trial 9 with value: 0.755699027578511.\u001b[0m\n",
      "\u001b[32m[I 2020-10-11 10:56:38,532]\u001b[0m Trial 13 finished with value: 0.7475450342738722 and parameters: {'classifier': 'RandomForest', 'n_estimators': 2430, 'max_depth': 97.07375188033666}. Best is trial 9 with value: 0.755699027578511.\u001b[0m\n",
      "\u001b[32m[I 2020-10-11 10:56:43,189]\u001b[0m Trial 14 finished with value: 0.7556751155746851 and parameters: {'classifier': 'RandomForest', 'n_estimators': 1180, 'max_depth': 19.975023926970717}. Best is trial 9 with value: 0.755699027578511.\u001b[0m\n",
      "\u001b[32m[I 2020-10-11 10:56:47,221]\u001b[0m Trial 15 finished with value: 0.7475530049418141 and parameters: {'classifier': 'RandomForest', 'n_estimators': 1030, 'max_depth': 18.948321979843346}. Best is trial 9 with value: 0.755699027578511.\u001b[0m\n",
      "\u001b[32m[I 2020-10-11 10:56:52,854]\u001b[0m Trial 16 finished with value: 0.7524310537223019 and parameters: {'classifier': 'RandomForest', 'n_estimators': 1460, 'max_depth': 15.675672073342355}. Best is trial 9 with value: 0.755699027578511.\u001b[0m\n",
      "\u001b[32m[I 2020-10-11 10:56:57,183]\u001b[0m Trial 17 finished with value: 0.7475450342738722 and parameters: {'classifier': 'RandomForest', 'n_estimators': 1160, 'max_depth': 37.14925324500355}. Best is trial 9 with value: 0.755699027578511.\u001b[0m\n",
      "\u001b[32m[I 2020-10-11 10:56:59,207]\u001b[0m Trial 18 finished with value: 0.75242308305436 and parameters: {'classifier': 'RandomForest', 'n_estimators': 540, 'max_depth': 14.407105358636494}. Best is trial 9 with value: 0.755699027578511.\u001b[0m\n",
      "\u001b[32m[I 2020-10-11 10:57:06,023]\u001b[0m Trial 19 finished with value: 0.7556910569105691 and parameters: {'classifier': 'RandomForest', 'n_estimators': 1850, 'max_depth': 22.633267519736933}. Best is trial 9 with value: 0.755699027578511.\u001b[0m\n",
      "\u001b[32m[I 2020-10-11 10:57:13,577]\u001b[0m Trial 20 finished with value: 0.7540570699824646 and parameters: {'classifier': 'RandomForest', 'n_estimators': 2070, 'max_depth': 30.01705704879401}. Best is trial 9 with value: 0.755699027578511.\u001b[0m\n",
      "\u001b[32m[I 2020-10-11 10:57:19,511]\u001b[0m Trial 21 finished with value: 0.7508130081300813 and parameters: {'classifier': 'RandomForest', 'n_estimators': 1540, 'max_depth': 21.769572558817462}. Best is trial 9 with value: 0.755699027578511.\u001b[0m\n",
      "\u001b[32m[I 2020-10-11 10:57:23,452]\u001b[0m Trial 22 finished with value: 0.75242308305436 and parameters: {'classifier': 'RandomForest', 'n_estimators': 970, 'max_depth': 14.14412929861816}. Best is trial 9 with value: 0.755699027578511.\u001b[0m\n",
      "\u001b[32m[I 2020-10-11 10:57:32,702]\u001b[0m Trial 23 finished with value: 0.7491710505340348 and parameters: {'classifier': 'RandomForest', 'n_estimators': 2350, 'max_depth': 27.58976645728486}. Best is trial 9 with value: 0.755699027578511.\u001b[0m\n",
      "\u001b[32m[I 2020-10-11 10:57:39,504]\u001b[0m Trial 24 finished with value: 0.7524310537223019 and parameters: {'classifier': 'RandomForest', 'n_estimators': 1790, 'max_depth': 17.551505155587975}. Best is trial 9 with value: 0.755699027578511.\u001b[0m\n",
      "\u001b[32m[I 2020-10-11 10:57:47,437]\u001b[0m Trial 25 finished with value: 0.7491710505340348 and parameters: {'classifier': 'RandomForest', 'n_estimators': 2030, 'max_depth': 12.374514477039215}. Best is trial 9 with value: 0.755699027578511.\u001b[0m\n",
      "\u001b[32m[I 2020-10-11 10:57:52,494]\u001b[0m Trial 26 finished with value: 0.7459190180137095 and parameters: {'classifier': 'RandomForest', 'n_estimators': 1310, 'max_depth': 21.09132092465145}. Best is trial 9 with value: 0.755699027578511.\u001b[0m\n",
      "\u001b[32m[I 2020-10-11 10:57:54,962]\u001b[0m Trial 27 finished with value: 0.744285031085605 and parameters: {'classifier': 'RandomForest', 'n_estimators': 680, 'max_depth': 51.117484571468395}. Best is trial 9 with value: 0.755699027578511.\u001b[0m\n",
      "\u001b[32m[I 2020-10-11 10:58:04,381]\u001b[0m Trial 28 finished with value: 0.7508050374621393 and parameters: {'classifier': 'RandomForest', 'n_estimators': 2450, 'max_depth': 24.910208870086127}. Best is trial 9 with value: 0.755699027578511.\u001b[0m\n",
      "\u001b[32m[I 2020-10-11 10:58:11,189]\u001b[0m Trial 29 finished with value: 0.7491790212019768 and parameters: {'classifier': 'RandomForest', 'n_estimators': 1750, 'max_depth': 16.77819030066699}. Best is trial 9 with value: 0.755699027578511.\u001b[0m\n",
      "\u001b[32m[I 2020-10-11 10:58:14,467]\u001b[0m Trial 30 finished with value: 0.7459190180137095 and parameters: {'classifier': 'RandomForest', 'n_estimators': 820, 'max_depth': 12.948879154005109}. Best is trial 9 with value: 0.755699027578511.\u001b[0m\n",
      "\u001b[32m[I 2020-10-11 10:58:24,631]\u001b[0m Trial 31 finished with value: 0.7508050374621393 and parameters: {'classifier': 'RandomForest', 'n_estimators': 2670, 'max_depth': 64.11714291210534}. Best is trial 9 with value: 0.755699027578511.\u001b[0m\n",
      "\u001b[32m[I 2020-10-11 10:58:35,251]\u001b[0m Trial 32 finished with value: 0.7508050374621393 and parameters: {'classifier': 'RandomForest', 'n_estimators': 2710, 'max_depth': 21.16083705995007}. Best is trial 9 with value: 0.755699027578511.\u001b[0m\n",
      "\u001b[32m[I 2020-10-11 10:58:43,749]\u001b[0m Trial 33 finished with value: 0.7491710505340348 and parameters: {'classifier': 'RandomForest', 'n_estimators': 2260, 'max_depth': 32.547790659855316}. Best is trial 9 with value: 0.755699027578511.\u001b[0m\n",
      "\u001b[32m[I 2020-10-11 10:58:53,703]\u001b[0m Trial 34 finished with value: 0.7475450342738722 and parameters: {'classifier': 'RandomForest', 'n_estimators': 2600, 'max_depth': 18.829158559523265}. Best is trial 9 with value: 0.755699027578511.\u001b[0m\n",
      "\u001b[32m[I 2020-10-11 10:59:04,954]\u001b[0m Trial 35 finished with value: 0.7540650406504065 and parameters: {'classifier': 'RandomForest', 'n_estimators': 2960, 'max_depth': 33.79920821003409}. Best is trial 9 with value: 0.755699027578511.\u001b[0m\n",
      "\u001b[32m[I 2020-10-11 10:59:05,053]\u001b[0m Trial 36 finished with value: 0.640068547744301 and parameters: {'classifier': 'SVC', 'svc_c': 2392493740.788194}. Best is trial 9 with value: 0.755699027578511.\u001b[0m\n",
      "\u001b[32m[I 2020-10-11 10:59:13,285]\u001b[0m Trial 37 finished with value: 0.7556910569105691 and parameters: {'classifier': 'RandomForest', 'n_estimators': 2180, 'max_depth': 10.084061977393311}. Best is trial 9 with value: 0.755699027578511.\u001b[0m\n",
      "\u001b[32m[I 2020-10-11 10:59:21,317]\u001b[0m Trial 38 finished with value: 0.7540650406504065 and parameters: {'classifier': 'RandomForest', 'n_estimators': 2020, 'max_depth': 10.06347729351794}. Best is trial 9 with value: 0.755699027578511.\u001b[0m\n",
      "\u001b[32m[I 2020-10-11 10:59:21,389]\u001b[0m Trial 39 finished with value: 0.640068547744301 and parameters: {'classifier': 'SVC', 'svc_c': 4516420003.656316}. Best is trial 9 with value: 0.755699027578511.\u001b[0m\n",
      "\u001b[32m[I 2020-10-11 10:59:29,889]\u001b[0m Trial 40 finished with value: 0.7524469950581859 and parameters: {'classifier': 'RandomForest', 'n_estimators': 2190, 'max_depth': 11.566875580756207}. Best is trial 9 with value: 0.755699027578511.\u001b[0m\n",
      "\u001b[32m[I 2020-10-11 10:59:37,410]\u001b[0m Trial 41 finished with value: 0.7508050374621393 and parameters: {'classifier': 'RandomForest', 'n_estimators': 1980, 'max_depth': 10.005285606574436}. Best is trial 9 with value: 0.755699027578511.\u001b[0m\n",
      "\u001b[32m[I 2020-10-11 10:59:47,287]\u001b[0m Trial 42 finished with value: 0.7508050374621393 and parameters: {'classifier': 'RandomForest', 'n_estimators': 2500, 'max_depth': 66.16452737111862}. Best is trial 9 with value: 0.755699027578511.\u001b[0m\n",
      "\u001b[32m[I 2020-10-11 10:59:53,467]\u001b[0m Trial 43 finished with value: 0.7475530049418141 and parameters: {'classifier': 'RandomForest', 'n_estimators': 1630, 'max_depth': 11.188663135431915}. Best is trial 9 with value: 0.755699027578511.\u001b[0m\n",
      "\u001b[32m[I 2020-10-11 10:59:53,543]\u001b[0m Trial 44 finished with value: 0.640068547744301 and parameters: {'classifier': 'SVC', 'svc_c': 98602.11573001748}. Best is trial 9 with value: 0.755699027578511.\u001b[0m\n",
      "\u001b[32m[I 2020-10-11 11:00:02,208]\u001b[0m Trial 45 finished with value: 0.7491710505340348 and parameters: {'classifier': 'RandomForest', 'n_estimators': 2270, 'max_depth': 25.898954352366808}. Best is trial 9 with value: 0.755699027578511.\u001b[0m\n",
      "\u001b[32m[I 2020-10-11 11:00:07,592]\u001b[0m Trial 46 finished with value: 0.7491710505340348 and parameters: {'classifier': 'RandomForest', 'n_estimators': 1370, 'max_depth': 13.821636494673}. Best is trial 9 with value: 0.755699027578511.\u001b[0m\n",
      "\u001b[32m[I 2020-10-11 11:00:14,993]\u001b[0m Trial 47 finished with value: 0.7524310537223019 and parameters: {'classifier': 'RandomForest', 'n_estimators': 1930, 'max_depth': 42.31991917310258}. Best is trial 9 with value: 0.755699027578511.\u001b[0m\n",
      "\u001b[32m[I 2020-10-11 11:00:25,704]\u001b[0m Trial 48 finished with value: 0.7524310537223019 and parameters: {'classifier': 'RandomForest', 'n_estimators': 2820, 'max_depth': 22.873158590471}. Best is trial 9 with value: 0.755699027578511.\u001b[0m\n",
      "\u001b[32m[I 2020-10-11 11:00:35,258]\u001b[0m Trial 49 finished with value: 0.7491869918699187 and parameters: {'classifier': 'RandomForest', 'n_estimators': 2550, 'max_depth': 15.750804167045061}. Best is trial 9 with value: 0.755699027578511.\u001b[0m\n",
      "\u001b[32m[I 2020-10-11 11:00:35,325]\u001b[0m Trial 50 finished with value: 0.640068547744301 and parameters: {'classifier': 'SVC', 'svc_c': 841349.1855868878}. Best is trial 9 with value: 0.755699027578511.\u001b[0m\n",
      "\u001b[32m[I 2020-10-11 11:00:46,435]\u001b[0m Trial 51 finished with value: 0.7508050374621393 and parameters: {'classifier': 'RandomForest', 'n_estimators': 2990, 'max_depth': 10.130284122726623}. Best is trial 9 with value: 0.755699027578511.\u001b[0m\n",
      "\u001b[32m[I 2020-10-11 11:00:57,507]\u001b[0m Trial 52 finished with value: 0.7540650406504065 and parameters: {'classifier': 'RandomForest', 'n_estimators': 2880, 'max_depth': 92.78622192324846}. Best is trial 9 with value: 0.755699027578511.\u001b[0m\n",
      "\u001b[32m[I 2020-10-11 11:01:05,491]\u001b[0m Trial 53 finished with value: 0.7540570699824646 and parameters: {'classifier': 'RandomForest', 'n_estimators': 2100, 'max_depth': 10.069209192040635}. Best is trial 9 with value: 0.755699027578511.\u001b[0m\n",
      "\u001b[32m[I 2020-10-11 11:01:12,828]\u001b[0m Trial 54 finished with value: 0.7508050374621393 and parameters: {'classifier': 'RandomForest', 'n_estimators': 1930, 'max_depth': 12.310412262479757}. Best is trial 9 with value: 0.755699027578511.\u001b[0m\n",
      "\u001b[32m[I 2020-10-11 11:01:19,263]\u001b[0m Trial 55 finished with value: 0.7507970667941973 and parameters: {'classifier': 'RandomForest', 'n_estimators': 1690, 'max_depth': 11.200583415558299}. Best is trial 9 with value: 0.755699027578511.\u001b[0m\n",
      "\u001b[32m[I 2020-10-11 11:01:28,282]\u001b[0m Trial 56 finished with value: 0.7507890961262554 and parameters: {'classifier': 'RandomForest', 'n_estimators': 2350, 'max_depth': 35.40196328246319}. Best is trial 9 with value: 0.755699027578511.\u001b[0m\n",
      "\u001b[32m[I 2020-10-11 11:01:39,121]\u001b[0m Trial 57 finished with value: 0.7508050374621393 and parameters: {'classifier': 'RandomForest', 'n_estimators': 2790, 'max_depth': 29.851373774915128}. Best is trial 9 with value: 0.755699027578511.\u001b[0m\n",
      "\u001b[32m[I 2020-10-11 11:01:47,255]\u001b[0m Trial 58 finished with value: 0.7508050374621393 and parameters: {'classifier': 'RandomForest', 'n_estimators': 2190, 'max_depth': 19.06557095264151}. Best is trial 9 with value: 0.755699027578511.\u001b[0m\n",
      "\u001b[32m[I 2020-10-11 11:01:53,538]\u001b[0m Trial 59 finished with value: 0.7507970667941973 and parameters: {'classifier': 'RandomForest', 'n_estimators': 1600, 'max_depth': 43.982888579170734}. Best is trial 9 with value: 0.755699027578511.\u001b[0m\n",
      "\u001b[32m[I 2020-10-11 11:02:00,521]\u001b[0m Trial 60 finished with value: 0.75242308305436 and parameters: {'classifier': 'RandomForest', 'n_estimators': 1820, 'max_depth': 35.2298171769335}. Best is trial 9 with value: 0.755699027578511.\u001b[0m\n",
      "\u001b[32m[I 2020-10-11 11:02:01,866]\u001b[0m Trial 61 finished with value: 0.7426669854933844 and parameters: {'classifier': 'RandomForest', 'n_estimators': 320, 'max_depth': 74.48487133021548}. Best is trial 9 with value: 0.755699027578511.\u001b[0m\n",
      "\u001b[32m[I 2020-10-11 11:02:09,045]\u001b[0m Trial 62 finished with value: 0.7524310537223019 and parameters: {'classifier': 'RandomForest', 'n_estimators': 1880, 'max_depth': 15.76106518360715}. Best is trial 9 with value: 0.755699027578511.\u001b[0m\n",
      "\u001b[32m[I 2020-10-11 11:02:17,870]\u001b[0m Trial 63 finished with value: 0.7475450342738722 and parameters: {'classifier': 'RandomForest', 'n_estimators': 2350, 'max_depth': 83.08531942743652}. Best is trial 9 with value: 0.755699027578511.\u001b[0m\n",
      "\u001b[32m[I 2020-10-11 11:02:29,030]\u001b[0m Trial 64 finished with value: 0.7491790212019768 and parameters: {'classifier': 'RandomForest', 'n_estimators': 2990, 'max_depth': 50.168709974723235}. Best is trial 9 with value: 0.755699027578511.\u001b[0m\n",
      "\u001b[32m[I 2020-10-11 11:02:33,458]\u001b[0m Trial 65 finished with value: 0.7524390243902439 and parameters: {'classifier': 'RandomForest', 'n_estimators': 1180, 'max_depth': 13.609667908710398}. Best is trial 9 with value: 0.755699027578511.\u001b[0m\n",
      "\u001b[32m[I 2020-10-11 11:02:41,012]\u001b[0m Trial 66 finished with value: 0.7491790212019768 and parameters: {'classifier': 'RandomForest', 'n_estimators': 2010, 'max_depth': 86.34625755658601}. Best is trial 9 with value: 0.755699027578511.\u001b[0m\n",
      "\u001b[32m[I 2020-10-11 11:02:46,560]\u001b[0m Trial 67 finished with value: 0.7524390243902439 and parameters: {'classifier': 'RandomForest', 'n_estimators': 1490, 'max_depth': 28.34133373307882}. Best is trial 9 with value: 0.755699027578511.\u001b[0m\n",
      "\u001b[32m[I 2020-10-11 11:02:57,413]\u001b[0m Trial 68 finished with value: 0.7491630798660928 and parameters: {'classifier': 'RandomForest', 'n_estimators': 2820, 'max_depth': 92.31596089074348}. Best is trial 9 with value: 0.755699027578511.\u001b[0m\n",
      "\u001b[32m[I 2020-10-11 11:03:06,716]\u001b[0m Trial 69 finished with value: 0.7540650406504065 and parameters: {'classifier': 'RandomForest', 'n_estimators': 2430, 'max_depth': 97.81292301588518}. Best is trial 9 with value: 0.755699027578511.\u001b[0m\n",
      "\u001b[32m[I 2020-10-11 11:03:14,704]\u001b[0m Trial 70 finished with value: 0.7508050374621393 and parameters: {'classifier': 'RandomForest', 'n_estimators': 2130, 'max_depth': 19.606559888598813}. Best is trial 9 with value: 0.755699027578511.\u001b[0m\n",
      "\u001b[32m[I 2020-10-11 11:03:24,672]\u001b[0m Trial 71 finished with value: 0.7556910569105691 and parameters: {'classifier': 'RandomForest', 'n_estimators': 2630, 'max_depth': 95.33513596318066}. Best is trial 9 with value: 0.755699027578511.\u001b[0m\n",
      "\u001b[32m[I 2020-10-11 11:03:34,471]\u001b[0m Trial 72 finished with value: 0.7508130081300813 and parameters: {'classifier': 'RandomForest', 'n_estimators': 2630, 'max_depth': 97.12537616345377}. Best is trial 9 with value: 0.755699027578511.\u001b[0m\n",
      "\u001b[32m[I 2020-10-11 11:03:43,730]\u001b[0m Trial 73 finished with value: 0.7540650406504065 and parameters: {'classifier': 'RandomForest', 'n_estimators': 2430, 'max_depth': 70.61639852576283}. Best is trial 9 with value: 0.755699027578511.\u001b[0m\n",
      "\u001b[32m[I 2020-10-11 11:03:54,368]\u001b[0m Trial 74 finished with value: 0.7491790212019768 and parameters: {'classifier': 'RandomForest', 'n_estimators': 2770, 'max_depth': 80.86674143792233}. Best is trial 9 with value: 0.755699027578511.\u001b[0m\n",
      "\u001b[32m[I 2020-10-11 11:04:02,967]\u001b[0m Trial 75 finished with value: 0.7540650406504065 and parameters: {'classifier': 'RandomForest', 'n_estimators': 2300, 'max_depth': 92.46856323435388}. Best is trial 9 with value: 0.755699027578511.\u001b[0m\n",
      "\u001b[32m[I 2020-10-11 11:04:12,068]\u001b[0m Trial 76 finished with value: 0.7491790212019768 and parameters: {'classifier': 'RandomForest', 'n_estimators': 2420, 'max_depth': 73.14499770229243}. Best is trial 9 with value: 0.755699027578511.\u001b[0m\n",
      "\u001b[32m[I 2020-10-11 11:04:21,419]\u001b[0m Trial 77 finished with value: 0.7475450342738722 and parameters: {'classifier': 'RandomForest', 'n_estimators': 2480, 'max_depth': 58.887901482926516}. Best is trial 9 with value: 0.755699027578511.\u001b[0m\n",
      "\u001b[32m[I 2020-10-11 11:04:29,701]\u001b[0m Trial 78 finished with value: 0.7508050374621393 and parameters: {'classifier': 'RandomForest', 'n_estimators': 2260, 'max_depth': 77.30658405297714}. Best is trial 9 with value: 0.755699027578511.\u001b[0m\n",
      "\u001b[32m[I 2020-10-11 11:04:40,434]\u001b[0m Trial 79 finished with value: 0.7507970667941973 and parameters: {'classifier': 'RandomForest', 'n_estimators': 2900, 'max_depth': 17.217937665927014}. Best is trial 9 with value: 0.755699027578511.\u001b[0m\n",
      "\u001b[32m[I 2020-10-11 11:04:40,520]\u001b[0m Trial 80 finished with value: 0.640068547744301 and parameters: {'classifier': 'SVC', 'svc_c': 0.0009039413051029425}. Best is trial 9 with value: 0.755699027578511.\u001b[0m\n",
      "\u001b[32m[I 2020-10-11 11:04:50,162]\u001b[0m Trial 81 finished with value: 0.7475450342738722 and parameters: {'classifier': 'RandomForest', 'n_estimators': 2560, 'max_depth': 89.11404572978287}. Best is trial 9 with value: 0.755699027578511.\u001b[0m\n",
      "\u001b[32m[I 2020-10-11 11:04:59,226]\u001b[0m Trial 82 finished with value: 0.7524310537223019 and parameters: {'classifier': 'RandomForest', 'n_estimators': 2400, 'max_depth': 96.99889093802024}. Best is trial 9 with value: 0.755699027578511.\u001b[0m\n",
      "\u001b[32m[I 2020-10-11 11:05:10,346]\u001b[0m Trial 83 finished with value: 0.7540730113183485 and parameters: {'classifier': 'RandomForest', 'n_estimators': 2910, 'max_depth': 22.779160852228582}. Best is trial 9 with value: 0.755699027578511.\u001b[0m\n",
      "\u001b[32m[I 2020-10-11 11:05:18,634]\u001b[0m Trial 84 finished with value: 0.7508050374621393 and parameters: {'classifier': 'RandomForest', 'n_estimators': 2220, 'max_depth': 23.98364223566525}. Best is trial 9 with value: 0.755699027578511.\u001b[0m\n",
      "\u001b[32m[I 2020-10-11 11:05:29,780]\u001b[0m Trial 85 finished with value: 0.7491710505340348 and parameters: {'classifier': 'RandomForest', 'n_estimators': 2910, 'max_depth': 26.10192978417576}. Best is trial 9 with value: 0.755699027578511.\u001b[0m\n",
      "\u001b[32m[I 2020-10-11 11:05:40,141]\u001b[0m Trial 86 finished with value: 0.7540570699824646 and parameters: {'classifier': 'RandomForest', 'n_estimators': 2700, 'max_depth': 22.52050655784375}. Best is trial 9 with value: 0.755699027578511.\u001b[0m\n",
      "\u001b[32m[I 2020-10-11 11:05:49,997]\u001b[0m Trial 87 finished with value: 0.7540650406504065 and parameters: {'classifier': 'RandomForest', 'n_estimators': 2620, 'max_depth': 14.999855817447795}. Best is trial 9 with value: 0.755699027578511.\u001b[0m\n",
      "\u001b[32m[I 2020-10-11 11:05:59,550]\u001b[0m Trial 88 finished with value: 0.7508050374621393 and parameters: {'classifier': 'RandomForest', 'n_estimators': 2530, 'max_depth': 66.69941716447752}. Best is trial 9 with value: 0.755699027578511.\u001b[0m\n",
      "\u001b[32m[I 2020-10-11 11:06:10,671]\u001b[0m Trial 89 finished with value: 0.7524390243902439 and parameters: {'classifier': 'RandomForest', 'n_estimators': 2910, 'max_depth': 19.777568912142957}. Best is trial 9 with value: 0.755699027578511.\u001b[0m\n",
      "\u001b[32m[I 2020-10-11 11:06:19,424]\u001b[0m Trial 90 finished with value: 0.7524310537223019 and parameters: {'classifier': 'RandomForest', 'n_estimators': 2360, 'max_depth': 98.05712777773445}. Best is trial 9 with value: 0.755699027578511.\u001b[0m\n",
      "\u001b[32m[I 2020-10-11 11:06:29,588]\u001b[0m Trial 91 finished with value: 0.7508050374621393 and parameters: {'classifier': 'RandomForest', 'n_estimators': 2750, 'max_depth': 10.74796243339868}. Best is trial 9 with value: 0.755699027578511.\u001b[0m\n",
      "\u001b[32m[I 2020-10-11 11:06:39,609]\u001b[0m Trial 92 finished with value: 0.7507970667941973 and parameters: {'classifier': 'RandomForest', 'n_estimators': 2640, 'max_depth': 11.91033491558642}. Best is trial 9 with value: 0.755699027578511.\u001b[0m\n",
      "\u001b[32m[I 2020-10-11 11:06:47,386]\u001b[0m Trial 93 finished with value: 0.7475609756097561 and parameters: {'classifier': 'RandomForest', 'n_estimators': 2050, 'max_depth': 18.15469188272046}. Best is trial 9 with value: 0.755699027578511.\u001b[0m\n",
      "\u001b[32m[I 2020-10-11 11:06:55,300]\u001b[0m Trial 94 finished with value: 0.7540650406504065 and parameters: {'classifier': 'RandomForest', 'n_estimators': 2130, 'max_depth': 12.838721238696294}. Best is trial 9 with value: 0.755699027578511.\u001b[0m\n",
      "\u001b[32m[I 2020-10-11 11:07:04,052]\u001b[0m Trial 95 finished with value: 0.7540650406504065 and parameters: {'classifier': 'RandomForest', 'n_estimators': 2300, 'max_depth': 21.176941522339707}. Best is trial 9 with value: 0.755699027578511.\u001b[0m\n",
      "\u001b[32m[I 2020-10-11 11:07:07,541]\u001b[0m Trial 96 finished with value: 0.7508130081300813 and parameters: {'classifier': 'RandomForest', 'n_estimators': 900, 'max_depth': 14.980222872894048}. Best is trial 9 with value: 0.755699027578511.\u001b[0m\n",
      "\u001b[32m[I 2020-10-11 11:07:13,799]\u001b[0m Trial 97 finished with value: 0.7475370636059302 and parameters: {'classifier': 'RandomForest', 'n_estimators': 1690, 'max_depth': 20.46595459612722}. Best is trial 9 with value: 0.755699027578511.\u001b[0m\n",
      "\u001b[32m[I 2020-10-11 11:07:13,864]\u001b[0m Trial 98 finished with value: 0.640068547744301 and parameters: {'classifier': 'SVC', 'svc_c': 3.075569697170327e-05}. Best is trial 9 with value: 0.755699027578511.\u001b[0m\n",
      "\u001b[32m[I 2020-10-11 11:07:21,202]\u001b[0m Trial 99 finished with value: 0.7508130081300813 and parameters: {'classifier': 'RandomForest', 'n_estimators': 1950, 'max_depth': 12.994217615494637}. Best is trial 9 with value: 0.755699027578511.\u001b[0m\n"
     ]
    },
    {
     "name": "stdout",
     "output_type": "stream",
     "text": [
      "Accuracy: 0.755699027578511\n",
      "Best hyperparameters: {'classifier': 'RandomForest', 'n_estimators': 2330, 'max_depth': 12.864237181394243}\n"
     ]
    }
   ],
   "source": [
    "study = optuna.create_study(direction='maximize')\n",
    "study.optimize(objective, n_trials=100)\n",
    "\n",
    "trial = study.best_trial\n",
    "\n",
    "print('Accuracy: {}'.format(trial.value))\n",
    "print(\"Best hyperparameters: {}\".format(trial.params))"
   ]
  },
  {
   "cell_type": "code",
   "execution_count": 14,
   "metadata": {},
   "outputs": [
    {
     "data": {
      "text/plain": [
       "FrozenTrial(number=9, value=0.755699027578511, datetime_start=datetime.datetime(2020, 10, 11, 10, 55, 56, 800963), datetime_complete=datetime.datetime(2020, 10, 11, 10, 56, 5, 505622), params={'classifier': 'RandomForest', 'n_estimators': 2330, 'max_depth': 12.864237181394243}, distributions={'classifier': CategoricalDistribution(choices=('RandomForest', 'SVC')), 'n_estimators': IntUniformDistribution(high=3000, low=300, step=10), 'max_depth': LogUniformDistribution(high=100, low=10)}, user_attrs={}, system_attrs={}, intermediate_values={}, trial_id=9, state=TrialState.COMPLETE)"
      ]
     },
     "execution_count": 14,
     "metadata": {},
     "output_type": "execute_result"
    }
   ],
   "source": [
    "trial\n"
   ]
  },
  {
   "cell_type": "code",
   "execution_count": 15,
   "metadata": {},
   "outputs": [
    {
     "data": {
      "text/plain": [
       "{'classifier': 'RandomForest',\n",
       " 'n_estimators': 2330,\n",
       " 'max_depth': 12.864237181394243}"
      ]
     },
     "execution_count": 15,
     "metadata": {},
     "output_type": "execute_result"
    }
   ],
   "source": [
    "study.best_params"
   ]
  },
  {
   "cell_type": "code",
   "execution_count": 16,
   "metadata": {},
   "outputs": [
    {
     "data": {
      "text/plain": [
       "RandomForestClassifier(max_depth=12, n_estimators=2330)"
      ]
     },
     "execution_count": 16,
     "metadata": {},
     "output_type": "execute_result"
    }
   ],
   "source": [
    "rf=RandomForestClassifier(n_estimators=2330,max_depth=12)\n",
    "rf.fit(X_train,y_train)"
   ]
  },
  {
   "cell_type": "code",
   "execution_count": 17,
   "metadata": {},
   "outputs": [
    {
     "name": "stdout",
     "output_type": "stream",
     "text": [
      "[[95 12]\n",
      " [16 31]]\n",
      "0.8181818181818182\n",
      "              precision    recall  f1-score   support\n",
      "\n",
      "           0       0.86      0.89      0.87       107\n",
      "           1       0.72      0.66      0.69        47\n",
      "\n",
      "    accuracy                           0.82       154\n",
      "   macro avg       0.79      0.77      0.78       154\n",
      "weighted avg       0.81      0.82      0.82       154\n",
      "\n"
     ]
    }
   ],
   "source": [
    "y_pred=rf.predict(X_test)\n",
    "print(confusion_matrix(y_test,y_pred))\n",
    "print(accuracy_score(y_test,y_pred))\n",
    "print(classification_report(y_test,y_pred))"
   ]
  },
  {
   "cell_type": "code",
   "execution_count": null,
   "metadata": {},
   "outputs": [],
   "source": []
  }
 ],
 "metadata": {
  "kernelspec": {
   "display_name": "Python 3",
   "language": "python",
   "name": "python3"
  },
  "language_info": {
   "codemirror_mode": {
    "name": "ipython",
    "version": 3
   },
   "file_extension": ".py",
   "mimetype": "text/x-python",
   "name": "python",
   "nbconvert_exporter": "python",
   "pygments_lexer": "ipython3",
   "version": "3.8.3"
  }
 },
 "nbformat": 4,
 "nbformat_minor": 4
}
